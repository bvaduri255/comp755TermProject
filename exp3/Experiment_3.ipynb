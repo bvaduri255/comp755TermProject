{
  "cells": [
    {
      "cell_type": "code",
      "execution_count": 189,
      "metadata": {
        "id": "3winDkBw6tl4"
      },
      "outputs": [],
      "source": [
        "import numpy as np\n",
        "from sklearn.linear_model import LogisticRegression\n",
        "from sklearn.model_selection import train_test_split\n",
        "from sklearn.metrics import roc_auc_score, accuracy_score\n",
        "\n",
        "np.random.seed(11)"
      ]
    },
    {
      "cell_type": "code",
      "execution_count": 190,
      "metadata": {
        "id": "AvekTZviQfE6"
      },
      "outputs": [],
      "source": [
        "\"\"\"Dataset generation\"\"\"\n",
        "\n",
        "def shuffle_dataset(X, y):\n",
        "    \"\"\"Shuffles X and Y together.\"\"\"\n",
        "    y = np.expand_dims(y, axis=-1)\n",
        "    fused = np.hstack((X, y))\n",
        "    np.random.shuffle(fused)\n",
        "    sep_x, sep_y = fused[:, :-1], fused[:, -1]\n",
        "    return sep_x, sep_y\n",
        "\n",
        "def generate_normal_dataset(mean, variance, num_features=13, num_instances=1026):\n",
        "  X = np.random.normal(loc=mean, scale=np.sqrt(variance), size=(num_instances, num_features))\n",
        "\n",
        "  # Generate Y according to a linear classification boundary\n",
        "  rand_weights = np.random.uniform(low=mean-5, high=mean+5, size=num_features)\n",
        "\n",
        "  y = np.dot(X, rand_weights) > np.mean(np.dot(X, rand_weights))\n",
        "  y = y.astype(int)\n",
        "  num_zeros = (y == 0).sum()\n",
        "  num_ones = (y == 1).sum()\n",
        "  print(f\"Number of 1s: {num_ones}; Number of 0s: {num_zeros}\")\n",
        "  return X, y\n"
      ]
    },
    {
      "cell_type": "code",
      "execution_count": 191,
      "metadata": {
        "colab": {
          "base_uri": "https://localhost:8080/"
        },
        "id": "EjW46XFYWMRL",
        "outputId": "fe7cbda0-f365-447a-997e-e9152add886b"
      },
      "outputs": [
        {
          "name": "stdout",
          "output_type": "stream",
          "text": [
            "Split number 0: mean -3.197303111232308 variance 0.05842572446287375\n",
            "Number of 1s: 507; Number of 0s: 519\n",
            "Split number 1: mean 1.5172848342579224 variance 1.8094205323554475\n",
            "Number of 1s: 508; Number of 0s: 518\n",
            "Split number 2: mean 3.7206200533552867 variance 2.3380414317305265\n",
            "Number of 1s: 512; Number of 0s: 514\n",
            "Split number 3: mean 3.1019449428889256 variance 0.16530703487464993\n",
            "Number of 1s: 513; Number of 0s: 513\n"
          ]
        }
      ],
      "source": [
        "# Create synthetic dataset\n",
        "SPLITS = 4\n",
        "\n",
        "# Create splits\n",
        "X_splits = []\n",
        "y_splits = []\n",
        "normal_means = []\n",
        "normal_variances = []\n",
        "for idx in range(SPLITS):\n",
        "  # Choose random parameters for Gaussian distribution\n",
        "  mean = np.random.uniform(low=-5, high=5)\n",
        "  variance = np.random.uniform(low=0, high=3)\n",
        "  normal_means.append(mean)\n",
        "  normal_variances.append(variance)\n",
        "  print(f\"Split number {idx}: mean {mean} variance {variance}\")\n",
        "\n",
        "  # Generate random dataset\n",
        "  X, y = generate_normal_dataset(mean, variance)\n",
        "\n",
        "  # Save dataset into splits\n",
        "  X_splits.append(X)\n",
        "  y_splits.append(y)\n"
      ]
    },
    {
      "cell_type": "code",
      "execution_count": 192,
      "metadata": {
        "colab": {
          "base_uri": "https://localhost:8080/"
        },
        "id": "UjcUuU5ANrOP",
        "outputId": "78c54ebf-85af-40ae-a480-e1284871d0f4"
      },
      "outputs": [
        {
          "name": "stdout",
          "output_type": "stream",
          "text": [
            "Accuracy: 0.6224116930572473\n",
            "ROC AUC: 0.6648618482765172\n"
          ]
        }
      ],
      "source": [
        "\"\"\"Statistics for full model\"\"\"\n",
        "\n",
        "X_full = np.concatenate(X_splits)\n",
        "y_full = np.concatenate(y_splits)\n",
        "X_full, y_full = shuffle_dataset(X_full, y_full)\n",
        "\n",
        "full_model = LogisticRegression(solver='lbfgs', max_iter=100000)\n",
        "X_train, X_test, y_train, y_test = train_test_split(X_full, y_full, test_size=0.2)\n",
        "full_model.fit(X_train, y_train)\n",
        "\n",
        "predict_y = full_model.predict(X_test)\n",
        "print(f\"Accuracy: {accuracy_score(y_test, predict_y)}\")\n",
        "\n",
        "probas = full_model.predict_proba(X_test)[:, 1]\n",
        "full_model_auc = roc_auc_score(y_test, probas)\n",
        "print(f\"ROC AUC: {full_model_auc}\")"
      ]
    },
    {
      "cell_type": "code",
      "execution_count": 193,
      "metadata": {
        "id": "z7-CrmBw9f42"
      },
      "outputs": [],
      "source": [
        "def train_model(X, y, eval_instances_ratio=0.2, show_split_eval=True):\n",
        "  # Calculate eval instances\n",
        "\n",
        "  assert len(X) == len(y)\n",
        "  eval_instances = int(np.ceil(len(X) * eval_instances_ratio))\n",
        "\n",
        "  # Shuffle dataset and create eval splits\n",
        "  X, y = shuffle_dataset(X, y)\n",
        "  train_x, eval_x = X[:eval_instances], X[-eval_instances:]\n",
        "  train_y, eval_y = y[:eval_instances], y[-eval_instances:]\n",
        "\n",
        "  # Train model\n",
        "  model = LogisticRegression(solver='lbfgs', max_iter=100000)\n",
        "  model.fit(train_x, train_y)\n",
        "  coef = model.coef_\n",
        "  intercept = model.intercept_\n",
        "  classes = model.classes_\n",
        "\n",
        "  # Show stats on current split\n",
        "  if show_split_eval:\n",
        "      temp_model = LogisticRegression(solver='lbfgs', max_iter=100000)\n",
        "      temp_model.fit(train_x, train_y)\n",
        "      predict_y = temp_model.predict(eval_x)\n",
        "      probas = temp_model.predict_proba(eval_x)[:, 1]\n",
        "      temp_model_auc = roc_auc_score(eval_y, probas)\n",
        "      print(f\"Accuracy: {accuracy_score(eval_y, predict_y)}; ROC AUC: {temp_model_auc}\")\n",
        "\n",
        "  return coef, intercept, classes, model, eval_x, eval_y\n"
      ]
    },
    {
      "cell_type": "code",
      "execution_count": 194,
      "metadata": {
        "colab": {
          "base_uri": "https://localhost:8080/"
        },
        "id": "U19jDKB67Cor",
        "outputId": "68ef3ef5-c044-4513-e844-8e0ef9c813c7"
      },
      "outputs": [
        {
          "name": "stdout",
          "output_type": "stream",
          "text": [
            "Split 0 eval statistics\n",
            "Accuracy: 0.9563106796116505; ROC AUC: 0.9938708156529938\n",
            "Split 1 eval statistics\n",
            "Accuracy: 0.9757281553398058; ROC AUC: 0.9972623430567356\n",
            "Split 2 eval statistics\n",
            "Accuracy: 0.970873786407767; ROC AUC: 0.9955693815987934\n",
            "Split 3 eval statistics\n",
            "Accuracy: 0.970873786407767; ROC AUC: 0.9959866220735787\n",
            "Aggregate model acc score: 0.5109223300970874\n",
            "ROC AUC for agg model: 0.5767492028314953\n",
            "Split number 1: 0.5065571161655753\n",
            "Split number 2: 0.5862680725909597\n",
            "Split number 3: 0.5395106770480305\n",
            "Split number 4: 0.5583362312348598\n",
            "Average split AUCs: 0.5476680242598563\n"
          ]
        }
      ],
      "source": [
        "\"\"\"Train each split model\"\"\"\n",
        "\n",
        "coefs, intercepts, evals_x, evals_y, split_models = [] , [] , [], [], []\n",
        "classes = None\n",
        "\n",
        "for i in range(SPLITS):\n",
        "  X = X_splits[i]\n",
        "  y = y_splits[i]\n",
        "  print(f\"Split {i} eval statistics\")\n",
        "  coef, intercept, classes, model, eval_x, eval_y = train_model(X, y)\n",
        "  coefs.append(coef)\n",
        "  intercepts.append(intercept)\n",
        "  evals_x.append(eval_x)\n",
        "  evals_y.append(eval_y)\n",
        "  split_models.append(model)\n",
        "\n",
        "  classes = classes\n",
        "\n",
        "\n",
        "agg_model = LogisticRegression()\n",
        "\n",
        "# Equal average aggreation and intercepts of model weights\n",
        "avg_agg_coefs = np.sum(np.sum(coefs, axis=1), axis=0) / (SPLITS)\n",
        "avg_agg_intercepts = np.array(np.sum(intercepts) / SPLITS)\n",
        "\n",
        "agg_model.coef_ = avg_agg_coefs.reshape(1, 13)\n",
        "agg_model.intercept_ = avg_agg_intercepts.reshape(1,)\n",
        "agg_model.classes_ = classes\n",
        "\n",
        "# Concatentate evaluation X and y\n",
        "eval_X = np.concatenate(evals_x)\n",
        "eval_y = np.concatenate(evals_y)\n",
        "eval_X, eval_y = shuffle_dataset(eval_X, eval_y)\n",
        "\n",
        "score = agg_model.score(eval_X, eval_y)\n",
        "print(f\"Aggregate model acc score: {score}\")\n",
        "\n",
        "probas = agg_model.predict_proba(eval_X)[:, 1]\n",
        "agg_model_auc = roc_auc_score(eval_y, probas)\n",
        "print(f\"ROC AUC for agg model: {agg_model_auc}\")\n",
        "\n",
        "split_AUCs = []\n",
        "for idx, model in enumerate(split_models):\n",
        "  probas = model.predict_proba(eval_X)[:, 1]\n",
        "  auc = roc_auc_score(eval_y, probas)\n",
        "  print(f\"Split number {idx+1}: {auc}\")\n",
        "  split_AUCs.append(auc)\n",
        "\n",
        "print(f\"Average split AUCs: {np.mean(split_AUCs)}\")"
      ]
    },
    {
      "cell_type": "code",
      "execution_count": 195,
      "metadata": {
        "colab": {
          "base_uri": "https://localhost:8080/",
          "height": 430
        },
        "id": "PLK31w6_3wUx",
        "outputId": "c38a282f-59b0-44fc-c718-805e282f2ea1"
      },
      "outputs": [
        {
          "data": {
            "image/png": "[encoded data removed]",
            "text/plain": [
              "<Figure size 640x480 with 1 Axes>"
            ]
          },
          "metadata": {},
          "output_type": "display_data"
        }
      ],
      "source": [
        "import matplotlib.pyplot as plt\n",
        "from scipy.stats import norm\n",
        "import statistics\n",
        "\n",
        "def addlabels(x,y):\n",
        "    for i in range(len(x)):\n",
        "        plt.text(i,y[i],y[i])\n",
        "\n",
        "for idx in range(len(normal_means)):\n",
        "  mean = normal_means[idx]\n",
        "  sd = np.sqrt(normal_variances[idx])\n",
        "  x = np.linspace(mean - 3*sd, mean + 3*sd, 100)\n",
        "  plt.plot(x, norm.pdf(x, mean, sd), label=f\"Split {idx+1}\")\n",
        "\n",
        "plt.legend(loc=\"upper left\")\n",
        "plt.show()"
      ]
    },
    {
      "cell_type": "code",
      "execution_count": 196,
      "metadata": {
        "colab": {
          "base_uri": "https://localhost:8080/",
          "height": 595
        },
        "id": "f7M-5qsf8GzX",
        "outputId": "fc88f861-eddf-484e-a04c-09d7d21985e9"
      },
      "outputs": [
        {
          "name": "stdout",
          "output_type": "stream",
          "text": [
            "0.6648618482765172\n",
            "0.5767492028314953\n",
            "[0.5065571161655753, 0.5862680725909597, 0.5395106770480305, 0.5583362312348598]\n"
          ]
        },
        {
          "data": {
            "image/png": "[encoded data removed]",
            "text/plain": [
              "<Figure size 640x480 with 1 Axes>"
            ]
          },
          "metadata": {},
          "output_type": "display_data"
        }
      ],
      "source": [
        "def addlabels(x,y):\n",
        "    for i in range(len(x)):\n",
        "        plt.text(i,y[i],y[i])\n",
        "\n",
        "print(full_model_auc)\n",
        "print(agg_model_auc)\n",
        "print(split_AUCs)\n",
        "\n",
        "fig = plt.figure()\n",
        "ax = fig.add_axes([0,0,1,1])\n",
        "labels = ['Baseline Model', 'Split 1', 'Split 2', 'Split 3', 'Split 4', 'Aggregate Model']\n",
        "aucs = [full_model_auc] + split_AUCs + [agg_model_auc]\n",
        "aucs = [round(auc, 2) for auc in aucs]\n",
        "addlabels(labels, aucs)\n",
        "ax.bar(labels,aucs, color=[\"green\", \"blue\", \"blue\", \"blue\", \"blue\", \"red\"], alpha=0.5)\n",
        "plt.show()"
      ]
    }
  ],
  "metadata": {
    "colab": {
      "gpuType": "T4",
      "provenance": []
    },
    "kernelspec": {
      "display_name": "Python 3",
      "name": "python3"
    },
    "language_info": {
      "codemirror_mode": {
        "name": "ipython",
        "version": 3
      },
      "file_extension": ".py",
      "mimetype": "text/x-python",
      "name": "python",
      "nbconvert_exporter": "python",
      "pygments_lexer": "ipython3",
      "version": "3.12.0"
    }
  },
  "nbformat": 4,
  "nbformat_minor": 0
}
